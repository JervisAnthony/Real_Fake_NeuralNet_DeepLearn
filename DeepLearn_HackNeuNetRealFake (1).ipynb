{
  "cells": [
    {
      "cell_type": "code",
      "execution_count": 1,
      "metadata": {
        "id": "e4f65eda"
      },
      "outputs": [],
      "source": [
        "import tensorflow as tf\n",
        "import json\n",
        "import os\n",
        "from distutils.dir_util import copy_tree\n",
        "import shutil\n",
        "import pandas as pd\n",
        "import matplotlib.pyplot as plt\n",
        "\n",
        "# now import TensorFlow and tf.keras\n",
        "\n",
        "from tensorflow.keras import backend as K\n",
        "from keras.preprocessing.image import ImageDataGenerator, load_img\n",
        "from tensorflow.keras import applications\n",
        "from tensorflow.keras.applications.densenet import DenseNet121\n",
        "from tensorflow.keras.models import Sequential\n",
        "from tensorflow.keras.layers import Dense, Dropout\n",
        "from tensorflow.keras.optimizers import Adam\n",
        "from tensorflow.keras.callbacks import EarlyStopping, ModelCheckpoint\n",
        "from tensorflow.keras.models import load_model"
      ],
      "id": "e4f65eda"
    },
    {
      "cell_type": "code",
      "execution_count": 3,
      "metadata": {
        "colab": {
          "base_uri": "https://localhost:8080/"
        },
        "id": "8kFfPanXWs3S",
        "outputId": "80f88936-3068-4e47-8fd3-6931f69f12a5"
      },
      "outputs": [
        {
          "output_type": "stream",
          "name": "stdout",
          "text": [
            "Mounted at /content/gdrive\n"
          ]
        }
      ],
      "source": [
        "from google.colab import drive\n",
        "drive.mount('/content/gdrive')"
      ],
      "id": "8kFfPanXWs3S"
    },
    {
      "cell_type": "code",
      "source": [
        "!cp '/content/gdrive/MyDrive/Hackathon/DLHackathonFiles/DLHack_RFNN.zip' 'DLHack_RFNN.zip'"
      ],
      "metadata": {
        "id": "kq0RXZsss_hX"
      },
      "id": "kq0RXZsss_hX",
      "execution_count": 4,
      "outputs": []
    },
    {
      "cell_type": "code",
      "execution_count": 5,
      "metadata": {
        "id": "QcLL_wU2gYjy"
      },
      "outputs": [],
      "source": [
        "!unzip -q DLHack_RFNN.zip"
      ],
      "id": "QcLL_wU2gYjy"
    },
    {
      "cell_type": "code",
      "execution_count": 6,
      "metadata": {
        "id": "8fb8c659"
      },
      "outputs": [],
      "source": [
        "dataset_inpt = '/content/DLHack_RFNN/dataset/'\n",
        "input_size = 256\n",
        "batch_size = 64\n",
        "train_inpt = os.path.join(dataset_inpt,'train')\n",
        "test_inpt = os.path.join(dataset_inpt, 'test')"
      ],
      "id": "8fb8c659"
    },
    {
      "cell_type": "code",
      "execution_count": 7,
      "metadata": {
        "id": "3d2d1fef",
        "colab": {
          "base_uri": "https://localhost:8080/",
          "height": 206
        },
        "outputId": "599f405c-39a9-4431-9d8b-5a78d552d432"
      },
      "outputs": [
        {
          "output_type": "execute_result",
          "data": {
            "text/plain": [
              "      file_id  label\n",
              "1704     1704      1\n",
              "1705     1705      1\n",
              "1706     1706      1\n",
              "1707     1707      1\n",
              "1708     1708      1"
            ],
            "text/html": [
              "\n",
              "  <div id=\"df-6702d42d-4108-458e-9e49-11b68d1dcacf\">\n",
              "    <div class=\"colab-df-container\">\n",
              "      <div>\n",
              "<style scoped>\n",
              "    .dataframe tbody tr th:only-of-type {\n",
              "        vertical-align: middle;\n",
              "    }\n",
              "\n",
              "    .dataframe tbody tr th {\n",
              "        vertical-align: top;\n",
              "    }\n",
              "\n",
              "    .dataframe thead th {\n",
              "        text-align: right;\n",
              "    }\n",
              "</style>\n",
              "<table border=\"1\" class=\"dataframe\">\n",
              "  <thead>\n",
              "    <tr style=\"text-align: right;\">\n",
              "      <th></th>\n",
              "      <th>file_id</th>\n",
              "      <th>label</th>\n",
              "    </tr>\n",
              "  </thead>\n",
              "  <tbody>\n",
              "    <tr>\n",
              "      <th>1704</th>\n",
              "      <td>1704</td>\n",
              "      <td>1</td>\n",
              "    </tr>\n",
              "    <tr>\n",
              "      <th>1705</th>\n",
              "      <td>1705</td>\n",
              "      <td>1</td>\n",
              "    </tr>\n",
              "    <tr>\n",
              "      <th>1706</th>\n",
              "      <td>1706</td>\n",
              "      <td>1</td>\n",
              "    </tr>\n",
              "    <tr>\n",
              "      <th>1707</th>\n",
              "      <td>1707</td>\n",
              "      <td>1</td>\n",
              "    </tr>\n",
              "    <tr>\n",
              "      <th>1708</th>\n",
              "      <td>1708</td>\n",
              "      <td>1</td>\n",
              "    </tr>\n",
              "  </tbody>\n",
              "</table>\n",
              "</div>\n",
              "      <button class=\"colab-df-convert\" onclick=\"convertToInteractive('df-6702d42d-4108-458e-9e49-11b68d1dcacf')\"\n",
              "              title=\"Convert this dataframe to an interactive table.\"\n",
              "              style=\"display:none;\">\n",
              "        \n",
              "  <svg xmlns=\"http://www.w3.org/2000/svg\" height=\"24px\"viewBox=\"0 0 24 24\"\n",
              "       width=\"24px\">\n",
              "    <path d=\"M0 0h24v24H0V0z\" fill=\"none\"/>\n",
              "    <path d=\"M18.56 5.44l.94 2.06.94-2.06 2.06-.94-2.06-.94-.94-2.06-.94 2.06-2.06.94zm-11 1L8.5 8.5l.94-2.06 2.06-.94-2.06-.94L8.5 2.5l-.94 2.06-2.06.94zm10 10l.94 2.06.94-2.06 2.06-.94-2.06-.94-.94-2.06-.94 2.06-2.06.94z\"/><path d=\"M17.41 7.96l-1.37-1.37c-.4-.4-.92-.59-1.43-.59-.52 0-1.04.2-1.43.59L10.3 9.45l-7.72 7.72c-.78.78-.78 2.05 0 2.83L4 21.41c.39.39.9.59 1.41.59.51 0 1.02-.2 1.41-.59l7.78-7.78 2.81-2.81c.8-.78.8-2.07 0-2.86zM5.41 20L4 18.59l7.72-7.72 1.47 1.35L5.41 20z\"/>\n",
              "  </svg>\n",
              "      </button>\n",
              "      \n",
              "  <style>\n",
              "    .colab-df-container {\n",
              "      display:flex;\n",
              "      flex-wrap:wrap;\n",
              "      gap: 12px;\n",
              "    }\n",
              "\n",
              "    .colab-df-convert {\n",
              "      background-color: #E8F0FE;\n",
              "      border: none;\n",
              "      border-radius: 50%;\n",
              "      cursor: pointer;\n",
              "      display: none;\n",
              "      fill: #1967D2;\n",
              "      height: 32px;\n",
              "      padding: 0 0 0 0;\n",
              "      width: 32px;\n",
              "    }\n",
              "\n",
              "    .colab-df-convert:hover {\n",
              "      background-color: #E2EBFA;\n",
              "      box-shadow: 0px 1px 2px rgba(60, 64, 67, 0.3), 0px 1px 3px 1px rgba(60, 64, 67, 0.15);\n",
              "      fill: #174EA6;\n",
              "    }\n",
              "\n",
              "    [theme=dark] .colab-df-convert {\n",
              "      background-color: #3B4455;\n",
              "      fill: #D2E3FC;\n",
              "    }\n",
              "\n",
              "    [theme=dark] .colab-df-convert:hover {\n",
              "      background-color: #434B5C;\n",
              "      box-shadow: 0px 1px 3px 1px rgba(0, 0, 0, 0.15);\n",
              "      filter: drop-shadow(0px 1px 2px rgba(0, 0, 0, 0.3));\n",
              "      fill: #FFFFFF;\n",
              "    }\n",
              "  </style>\n",
              "\n",
              "      <script>\n",
              "        const buttonEl =\n",
              "          document.querySelector('#df-6702d42d-4108-458e-9e49-11b68d1dcacf button.colab-df-convert');\n",
              "        buttonEl.style.display =\n",
              "          google.colab.kernel.accessAllowed ? 'block' : 'none';\n",
              "\n",
              "        async function convertToInteractive(key) {\n",
              "          const element = document.querySelector('#df-6702d42d-4108-458e-9e49-11b68d1dcacf');\n",
              "          const dataTable =\n",
              "            await google.colab.kernel.invokeFunction('convertToInteractive',\n",
              "                                                     [key], {});\n",
              "          if (!dataTable) return;\n",
              "\n",
              "          const docLinkHtml = 'Like what you see? Visit the ' +\n",
              "            '<a target=\"_blank\" href=https://colab.research.google.com/notebooks/data_table.ipynb>data table notebook</a>'\n",
              "            + ' to learn more about interactive tables.';\n",
              "          element.innerHTML = '';\n",
              "          dataTable['output_type'] = 'display_data';\n",
              "          await google.colab.output.renderOutput(dataTable, element);\n",
              "          const docLink = document.createElement('div');\n",
              "          docLink.innerHTML = docLinkHtml;\n",
              "          element.appendChild(docLink);\n",
              "        }\n",
              "      </script>\n",
              "    </div>\n",
              "  </div>\n",
              "  "
            ]
          },
          "metadata": {},
          "execution_count": 7
        }
      ],
      "source": [
        "#Read training and test Dataframe\n",
        "rf_train = pd.read_csv('/content/DLHack_RFNN/train.csv')\n",
        "rf_train.tail()"
      ],
      "id": "3d2d1fef"
    },
    {
      "cell_type": "code",
      "execution_count": 8,
      "metadata": {
        "id": "d2774c23",
        "colab": {
          "base_uri": "https://localhost:8080/",
          "height": 206
        },
        "outputId": "a83531f3-97d2-46aa-9c11-709f70270f50"
      },
      "outputs": [
        {
          "output_type": "execute_result",
          "data": {
            "text/plain": [
              "   file_id\n",
              "0        0\n",
              "1        1\n",
              "2        2\n",
              "3        3\n",
              "4        4"
            ],
            "text/html": [
              "\n",
              "  <div id=\"df-3f78031b-7dcc-4f9a-9c4e-a66bac2563ca\">\n",
              "    <div class=\"colab-df-container\">\n",
              "      <div>\n",
              "<style scoped>\n",
              "    .dataframe tbody tr th:only-of-type {\n",
              "        vertical-align: middle;\n",
              "    }\n",
              "\n",
              "    .dataframe tbody tr th {\n",
              "        vertical-align: top;\n",
              "    }\n",
              "\n",
              "    .dataframe thead th {\n",
              "        text-align: right;\n",
              "    }\n",
              "</style>\n",
              "<table border=\"1\" class=\"dataframe\">\n",
              "  <thead>\n",
              "    <tr style=\"text-align: right;\">\n",
              "      <th></th>\n",
              "      <th>file_id</th>\n",
              "    </tr>\n",
              "  </thead>\n",
              "  <tbody>\n",
              "    <tr>\n",
              "      <th>0</th>\n",
              "      <td>0</td>\n",
              "    </tr>\n",
              "    <tr>\n",
              "      <th>1</th>\n",
              "      <td>1</td>\n",
              "    </tr>\n",
              "    <tr>\n",
              "      <th>2</th>\n",
              "      <td>2</td>\n",
              "    </tr>\n",
              "    <tr>\n",
              "      <th>3</th>\n",
              "      <td>3</td>\n",
              "    </tr>\n",
              "    <tr>\n",
              "      <th>4</th>\n",
              "      <td>4</td>\n",
              "    </tr>\n",
              "  </tbody>\n",
              "</table>\n",
              "</div>\n",
              "      <button class=\"colab-df-convert\" onclick=\"convertToInteractive('df-3f78031b-7dcc-4f9a-9c4e-a66bac2563ca')\"\n",
              "              title=\"Convert this dataframe to an interactive table.\"\n",
              "              style=\"display:none;\">\n",
              "        \n",
              "  <svg xmlns=\"http://www.w3.org/2000/svg\" height=\"24px\"viewBox=\"0 0 24 24\"\n",
              "       width=\"24px\">\n",
              "    <path d=\"M0 0h24v24H0V0z\" fill=\"none\"/>\n",
              "    <path d=\"M18.56 5.44l.94 2.06.94-2.06 2.06-.94-2.06-.94-.94-2.06-.94 2.06-2.06.94zm-11 1L8.5 8.5l.94-2.06 2.06-.94-2.06-.94L8.5 2.5l-.94 2.06-2.06.94zm10 10l.94 2.06.94-2.06 2.06-.94-2.06-.94-.94-2.06-.94 2.06-2.06.94z\"/><path d=\"M17.41 7.96l-1.37-1.37c-.4-.4-.92-.59-1.43-.59-.52 0-1.04.2-1.43.59L10.3 9.45l-7.72 7.72c-.78.78-.78 2.05 0 2.83L4 21.41c.39.39.9.59 1.41.59.51 0 1.02-.2 1.41-.59l7.78-7.78 2.81-2.81c.8-.78.8-2.07 0-2.86zM5.41 20L4 18.59l7.72-7.72 1.47 1.35L5.41 20z\"/>\n",
              "  </svg>\n",
              "      </button>\n",
              "      \n",
              "  <style>\n",
              "    .colab-df-container {\n",
              "      display:flex;\n",
              "      flex-wrap:wrap;\n",
              "      gap: 12px;\n",
              "    }\n",
              "\n",
              "    .colab-df-convert {\n",
              "      background-color: #E8F0FE;\n",
              "      border: none;\n",
              "      border-radius: 50%;\n",
              "      cursor: pointer;\n",
              "      display: none;\n",
              "      fill: #1967D2;\n",
              "      height: 32px;\n",
              "      padding: 0 0 0 0;\n",
              "      width: 32px;\n",
              "    }\n",
              "\n",
              "    .colab-df-convert:hover {\n",
              "      background-color: #E2EBFA;\n",
              "      box-shadow: 0px 1px 2px rgba(60, 64, 67, 0.3), 0px 1px 3px 1px rgba(60, 64, 67, 0.15);\n",
              "      fill: #174EA6;\n",
              "    }\n",
              "\n",
              "    [theme=dark] .colab-df-convert {\n",
              "      background-color: #3B4455;\n",
              "      fill: #D2E3FC;\n",
              "    }\n",
              "\n",
              "    [theme=dark] .colab-df-convert:hover {\n",
              "      background-color: #434B5C;\n",
              "      box-shadow: 0px 1px 3px 1px rgba(0, 0, 0, 0.15);\n",
              "      filter: drop-shadow(0px 1px 2px rgba(0, 0, 0, 0.3));\n",
              "      fill: #FFFFFF;\n",
              "    }\n",
              "  </style>\n",
              "\n",
              "      <script>\n",
              "        const buttonEl =\n",
              "          document.querySelector('#df-3f78031b-7dcc-4f9a-9c4e-a66bac2563ca button.colab-df-convert');\n",
              "        buttonEl.style.display =\n",
              "          google.colab.kernel.accessAllowed ? 'block' : 'none';\n",
              "\n",
              "        async function convertToInteractive(key) {\n",
              "          const element = document.querySelector('#df-3f78031b-7dcc-4f9a-9c4e-a66bac2563ca');\n",
              "          const dataTable =\n",
              "            await google.colab.kernel.invokeFunction('convertToInteractive',\n",
              "                                                     [key], {});\n",
              "          if (!dataTable) return;\n",
              "\n",
              "          const docLinkHtml = 'Like what you see? Visit the ' +\n",
              "            '<a target=\"_blank\" href=https://colab.research.google.com/notebooks/data_table.ipynb>data table notebook</a>'\n",
              "            + ' to learn more about interactive tables.';\n",
              "          element.innerHTML = '';\n",
              "          dataTable['output_type'] = 'display_data';\n",
              "          await google.colab.output.renderOutput(dataTable, element);\n",
              "          const docLink = document.createElement('div');\n",
              "          docLink.innerHTML = docLinkHtml;\n",
              "          element.appendChild(docLink);\n",
              "        }\n",
              "      </script>\n",
              "    </div>\n",
              "  </div>\n",
              "  "
            ]
          },
          "metadata": {},
          "execution_count": 8
        }
      ],
      "source": [
        "rf_test = pd.read_csv('/content/DLHack_RFNN/test.csv')\n",
        "rf_test.head()"
      ],
      "id": "d2774c23"
    },
    {
      "cell_type": "code",
      "source": [
        "rf_train_datagen = ImageDataGenerator(\n",
        "    rescale = 1/255,    \n",
        "    horizontal_flip = True, \n",
        "    validation_split=0.2\n",
        ")\n",
        "\n",
        "rf_train_generator = rf_train_datagen.flow_from_directory(\n",
        "    train_inpt,\n",
        "    target_size = (input_size, input_size),\n",
        "    color_mode = \"rgb\",\n",
        "    class_mode = \"binary\",  \n",
        "    batch_size = batch_size,\n",
        "    shuffle = True,\n",
        "    subset='training') "
      ],
      "metadata": {
        "colab": {
          "base_uri": "https://localhost:8080/"
        },
        "id": "UY73WI3VGVwX",
        "outputId": "5e36a2f5-b3c5-44c5-ccf8-c307a63061b2"
      },
      "id": "UY73WI3VGVwX",
      "execution_count": 9,
      "outputs": [
        {
          "output_type": "stream",
          "name": "stdout",
          "text": [
            "Found 1368 images belonging to 2 classes.\n"
          ]
        }
      ]
    },
    {
      "cell_type": "code",
      "source": [
        "validation_generator = rf_train_datagen.flow_from_directory(\n",
        "    train_inpt, \n",
        "    target_size=(input_size, input_size),\n",
        "    batch_size=batch_size,\n",
        "    class_mode='binary',\n",
        "    subset='validation') "
      ],
      "metadata": {
        "colab": {
          "base_uri": "https://localhost:8080/"
        },
        "id": "4U5hbNWeHbln",
        "outputId": "02819987-b5d0-4656-97dc-f6d09fc7457a"
      },
      "id": "4U5hbNWeHbln",
      "execution_count": 10,
      "outputs": [
        {
          "output_type": "stream",
          "name": "stdout",
          "text": [
            "Found 341 images belonging to 2 classes.\n"
          ]
        }
      ]
    },
    {
      "cell_type": "code",
      "source": [
        "paths = []\n",
        "for i in rf_test['file_id']:   \n",
        "    path = test_inpt + '/' + str(rf_test.iloc[i]['file_id'])+'.jpg'\n",
        "    paths.append(path)\n",
        "    \n",
        "rf_test['file_path'] = paths\n",
        "rf_test.tail()"
      ],
      "metadata": {
        "colab": {
          "base_uri": "https://localhost:8080/",
          "height": 206
        },
        "id": "2cEfl39WIDx_",
        "outputId": "bf78fa32-4158-4cce-874c-7783777e3874"
      },
      "id": "2cEfl39WIDx_",
      "execution_count": 16,
      "outputs": [
        {
          "output_type": "execute_result",
          "data": {
            "text/plain": [
              "     file_id                                  file_path\n",
              "327      327  /content/DLHack_RFNN/dataset/test/327.jpg\n",
              "328      328  /content/DLHack_RFNN/dataset/test/328.jpg\n",
              "329      329  /content/DLHack_RFNN/dataset/test/329.jpg\n",
              "330      330  /content/DLHack_RFNN/dataset/test/330.jpg\n",
              "331      331  /content/DLHack_RFNN/dataset/test/331.jpg"
            ],
            "text/html": [
              "\n",
              "  <div id=\"df-c228d672-d3fd-4fa6-9f82-c603ef027c85\">\n",
              "    <div class=\"colab-df-container\">\n",
              "      <div>\n",
              "<style scoped>\n",
              "    .dataframe tbody tr th:only-of-type {\n",
              "        vertical-align: middle;\n",
              "    }\n",
              "\n",
              "    .dataframe tbody tr th {\n",
              "        vertical-align: top;\n",
              "    }\n",
              "\n",
              "    .dataframe thead th {\n",
              "        text-align: right;\n",
              "    }\n",
              "</style>\n",
              "<table border=\"1\" class=\"dataframe\">\n",
              "  <thead>\n",
              "    <tr style=\"text-align: right;\">\n",
              "      <th></th>\n",
              "      <th>file_id</th>\n",
              "      <th>file_path</th>\n",
              "    </tr>\n",
              "  </thead>\n",
              "  <tbody>\n",
              "    <tr>\n",
              "      <th>327</th>\n",
              "      <td>327</td>\n",
              "      <td>/content/DLHack_RFNN/dataset/test/327.jpg</td>\n",
              "    </tr>\n",
              "    <tr>\n",
              "      <th>328</th>\n",
              "      <td>328</td>\n",
              "      <td>/content/DLHack_RFNN/dataset/test/328.jpg</td>\n",
              "    </tr>\n",
              "    <tr>\n",
              "      <th>329</th>\n",
              "      <td>329</td>\n",
              "      <td>/content/DLHack_RFNN/dataset/test/329.jpg</td>\n",
              "    </tr>\n",
              "    <tr>\n",
              "      <th>330</th>\n",
              "      <td>330</td>\n",
              "      <td>/content/DLHack_RFNN/dataset/test/330.jpg</td>\n",
              "    </tr>\n",
              "    <tr>\n",
              "      <th>331</th>\n",
              "      <td>331</td>\n",
              "      <td>/content/DLHack_RFNN/dataset/test/331.jpg</td>\n",
              "    </tr>\n",
              "  </tbody>\n",
              "</table>\n",
              "</div>\n",
              "      <button class=\"colab-df-convert\" onclick=\"convertToInteractive('df-c228d672-d3fd-4fa6-9f82-c603ef027c85')\"\n",
              "              title=\"Convert this dataframe to an interactive table.\"\n",
              "              style=\"display:none;\">\n",
              "        \n",
              "  <svg xmlns=\"http://www.w3.org/2000/svg\" height=\"24px\"viewBox=\"0 0 24 24\"\n",
              "       width=\"24px\">\n",
              "    <path d=\"M0 0h24v24H0V0z\" fill=\"none\"/>\n",
              "    <path d=\"M18.56 5.44l.94 2.06.94-2.06 2.06-.94-2.06-.94-.94-2.06-.94 2.06-2.06.94zm-11 1L8.5 8.5l.94-2.06 2.06-.94-2.06-.94L8.5 2.5l-.94 2.06-2.06.94zm10 10l.94 2.06.94-2.06 2.06-.94-2.06-.94-.94-2.06-.94 2.06-2.06.94z\"/><path d=\"M17.41 7.96l-1.37-1.37c-.4-.4-.92-.59-1.43-.59-.52 0-1.04.2-1.43.59L10.3 9.45l-7.72 7.72c-.78.78-.78 2.05 0 2.83L4 21.41c.39.39.9.59 1.41.59.51 0 1.02-.2 1.41-.59l7.78-7.78 2.81-2.81c.8-.78.8-2.07 0-2.86zM5.41 20L4 18.59l7.72-7.72 1.47 1.35L5.41 20z\"/>\n",
              "  </svg>\n",
              "      </button>\n",
              "      \n",
              "  <style>\n",
              "    .colab-df-container {\n",
              "      display:flex;\n",
              "      flex-wrap:wrap;\n",
              "      gap: 12px;\n",
              "    }\n",
              "\n",
              "    .colab-df-convert {\n",
              "      background-color: #E8F0FE;\n",
              "      border: none;\n",
              "      border-radius: 50%;\n",
              "      cursor: pointer;\n",
              "      display: none;\n",
              "      fill: #1967D2;\n",
              "      height: 32px;\n",
              "      padding: 0 0 0 0;\n",
              "      width: 32px;\n",
              "    }\n",
              "\n",
              "    .colab-df-convert:hover {\n",
              "      background-color: #E2EBFA;\n",
              "      box-shadow: 0px 1px 2px rgba(60, 64, 67, 0.3), 0px 1px 3px 1px rgba(60, 64, 67, 0.15);\n",
              "      fill: #174EA6;\n",
              "    }\n",
              "\n",
              "    [theme=dark] .colab-df-convert {\n",
              "      background-color: #3B4455;\n",
              "      fill: #D2E3FC;\n",
              "    }\n",
              "\n",
              "    [theme=dark] .colab-df-convert:hover {\n",
              "      background-color: #434B5C;\n",
              "      box-shadow: 0px 1px 3px 1px rgba(0, 0, 0, 0.15);\n",
              "      filter: drop-shadow(0px 1px 2px rgba(0, 0, 0, 0.3));\n",
              "      fill: #FFFFFF;\n",
              "    }\n",
              "  </style>\n",
              "\n",
              "      <script>\n",
              "        const buttonEl =\n",
              "          document.querySelector('#df-c228d672-d3fd-4fa6-9f82-c603ef027c85 button.colab-df-convert');\n",
              "        buttonEl.style.display =\n",
              "          google.colab.kernel.accessAllowed ? 'block' : 'none';\n",
              "\n",
              "        async function convertToInteractive(key) {\n",
              "          const element = document.querySelector('#df-c228d672-d3fd-4fa6-9f82-c603ef027c85');\n",
              "          const dataTable =\n",
              "            await google.colab.kernel.invokeFunction('convertToInteractive',\n",
              "                                                     [key], {});\n",
              "          if (!dataTable) return;\n",
              "\n",
              "          const docLinkHtml = 'Like what you see? Visit the ' +\n",
              "            '<a target=\"_blank\" href=https://colab.research.google.com/notebooks/data_table.ipynb>data table notebook</a>'\n",
              "            + ' to learn more about interactive tables.';\n",
              "          element.innerHTML = '';\n",
              "          dataTable['output_type'] = 'display_data';\n",
              "          await google.colab.output.renderOutput(dataTable, element);\n",
              "          const docLink = document.createElement('div');\n",
              "          docLink.innerHTML = docLinkHtml;\n",
              "          element.appendChild(docLink);\n",
              "        }\n",
              "      </script>\n",
              "    </div>\n",
              "  </div>\n",
              "  "
            ]
          },
          "metadata": {},
          "execution_count": 16
        }
      ]
    },
    {
      "cell_type": "code",
      "execution_count": 17,
      "metadata": {
        "id": "9cfd30ad",
        "colab": {
          "base_uri": "https://localhost:8080/"
        },
        "outputId": "0df53d1f-9c66-4791-9910-ca916b26c74a"
      },
      "outputs": [
        {
          "output_type": "stream",
          "name": "stdout",
          "text": [
            "Found 332 validated image filenames.\n"
          ]
        }
      ],
      "source": [
        "test_datagen = ImageDataGenerator(\n",
        "    rescale = 1/255    \n",
        ")\n",
        "\n",
        "rf_test_generator = test_datagen.flow_from_dataframe(\n",
        "    rf_test,\n",
        "    x_col='file_path', \n",
        "    target_size = (input_size, input_size),\n",
        "    color_mode = \"rgb\",\n",
        "    class_mode = None,\n",
        "    batch_size = 1,\n",
        "    shuffle = False\n",
        ")"
      ],
      "id": "9cfd30ad"
    },
    {
      "cell_type": "code",
      "source": [
        "tf.keras.backend.clear_session()\n",
        "densenet = DenseNet121(weights='imagenet',\n",
        "                           include_top=False,\n",
        "                           input_shape=(input_size,input_size,3)\n",
        "                          )\n",
        "model = tf.keras.models.Sequential([densenet,\n",
        "                                        tf.keras.layers.GlobalAveragePooling2D(),\n",
        "                                        tf.keras.layers.Dense(512, activation='relu'),\n",
        "                                        tf.keras.layers.BatchNormalization(),\n",
        "                                        tf.keras.layers.Dropout(0.3),\n",
        "                                        tf.keras.layers.Dense(256, activation='relu'),\n",
        "                                        tf.keras.layers.BatchNormalization(),\n",
        "                                        tf.keras.layers.Dropout(0.4),\n",
        "                                        tf.keras.layers.Dense(128, activation='relu'),\n",
        "                                        tf.keras.layers.BatchNormalization(),\n",
        "                                        tf.keras.layers.Dropout(0.5),\n",
        "                                        Dense(1, activation='sigmoid')\n",
        "                                      ])\n",
        "model.compile(optimizer=Adam(lr=0.001),\n",
        "                loss='binary_crossentropy',\n",
        "                metrics=['accuracy']\n",
        "                )"
      ],
      "metadata": {
        "colab": {
          "base_uri": "https://localhost:8080/"
        },
        "id": "pU1mqzPJLFah",
        "outputId": "8a4467bf-d2fe-4005-a6cf-dabae2c7fbaa"
      },
      "id": "pU1mqzPJLFah",
      "execution_count": 33,
      "outputs": [
        {
          "output_type": "stream",
          "name": "stderr",
          "text": [
            "/usr/local/lib/python3.7/dist-packages/keras/optimizer_v2/adam.py:105: UserWarning: The `lr` argument is deprecated, use `learning_rate` instead.\n",
            "  super(Adam, self).__init__(name, **kwargs)\n"
          ]
        }
      ]
    },
    {
      "cell_type": "code",
      "execution_count": 34,
      "metadata": {
        "id": "c135cb5a"
      },
      "outputs": [],
      "source": [
        "\n",
        "custom_callbacks = [\n",
        "    \n",
        "    ModelCheckpoint(\n",
        "        filepath = os.path.join( './best_result.h5'),\n",
        "        monitor = 'val_accuracy',\n",
        "        mode = 'max',\n",
        "        verbose = 1,\n",
        "        save_best_only = True\n",
        "    )\n",
        "]\n"
      ],
      "id": "c135cb5a"
    },
    {
      "cell_type": "code",
      "execution_count": 35,
      "metadata": {
        "id": "9fc2530a",
        "colab": {
          "base_uri": "https://localhost:8080/"
        },
        "outputId": "201dc732-0e50-4eee-cb65-12368e0f6e85"
      },
      "outputs": [
        {
          "output_type": "stream",
          "name": "stdout",
          "text": [
            "Epoch 1/10\n",
            "22/22 [==============================] - ETA: 0s - loss: 0.9624 - accuracy: 0.5417\n",
            "Epoch 1: val_accuracy improved from -inf to 0.55425, saving model to ./best_result.h5\n",
            "22/22 [==============================] - 43s 1s/step - loss: 0.9624 - accuracy: 0.5417 - val_loss: 1.6832 - val_accuracy: 0.5543\n",
            "Epoch 2/10\n",
            "22/22 [==============================] - ETA: 0s - loss: 0.8732 - accuracy: 0.5592\n",
            "Epoch 2: val_accuracy did not improve from 0.55425\n",
            "22/22 [==============================] - 26s 1s/step - loss: 0.8732 - accuracy: 0.5592 - val_loss: 0.8621 - val_accuracy: 0.4868\n",
            "Epoch 3/10\n",
            "22/22 [==============================] - ETA: 0s - loss: 0.7806 - accuracy: 0.6184\n",
            "Epoch 3: val_accuracy did not improve from 0.55425\n",
            "22/22 [==============================] - 26s 1s/step - loss: 0.7806 - accuracy: 0.6184 - val_loss: 1.4904 - val_accuracy: 0.5367\n",
            "Epoch 4/10\n",
            "22/22 [==============================] - ETA: 0s - loss: 0.7709 - accuracy: 0.5928\n",
            "Epoch 4: val_accuracy did not improve from 0.55425\n",
            "22/22 [==============================] - 27s 1s/step - loss: 0.7709 - accuracy: 0.5928 - val_loss: 3.3345 - val_accuracy: 0.4751\n",
            "Epoch 5/10\n",
            "22/22 [==============================] - ETA: 0s - loss: 0.7563 - accuracy: 0.6199\n",
            "Epoch 5: val_accuracy improved from 0.55425 to 0.60704, saving model to ./best_result.h5\n",
            "22/22 [==============================] - 27s 1s/step - loss: 0.7563 - accuracy: 0.6199 - val_loss: 1.7893 - val_accuracy: 0.6070\n",
            "Epoch 6/10\n",
            "22/22 [==============================] - ETA: 0s - loss: 0.7156 - accuracy: 0.6572\n",
            "Epoch 6: val_accuracy did not improve from 0.60704\n",
            "22/22 [==============================] - 26s 1s/step - loss: 0.7156 - accuracy: 0.6572 - val_loss: 0.8642 - val_accuracy: 0.5630\n",
            "Epoch 7/10\n",
            "22/22 [==============================] - ETA: 0s - loss: 0.6963 - accuracy: 0.6601\n",
            "Epoch 7: val_accuracy did not improve from 0.60704\n",
            "22/22 [==============================] - 26s 1s/step - loss: 0.6963 - accuracy: 0.6601 - val_loss: 1.2589 - val_accuracy: 0.5924\n",
            "Epoch 8/10\n",
            "22/22 [==============================] - ETA: 0s - loss: 0.6577 - accuracy: 0.6981\n",
            "Epoch 8: val_accuracy did not improve from 0.60704\n",
            "22/22 [==============================] - 26s 1s/step - loss: 0.6577 - accuracy: 0.6981 - val_loss: 1.4131 - val_accuracy: 0.5572\n",
            "Epoch 9/10\n",
            "22/22 [==============================] - ETA: 0s - loss: 0.6119 - accuracy: 0.7244\n",
            "Epoch 9: val_accuracy improved from 0.60704 to 0.65103, saving model to ./best_result.h5\n",
            "22/22 [==============================] - 28s 1s/step - loss: 0.6119 - accuracy: 0.7244 - val_loss: 0.7299 - val_accuracy: 0.6510\n",
            "Epoch 10/10\n",
            "22/22 [==============================] - ETA: 0s - loss: 0.5346 - accuracy: 0.7566\n",
            "Epoch 10: val_accuracy did not improve from 0.65103\n",
            "22/22 [==============================] - 26s 1s/step - loss: 0.5346 - accuracy: 0.7566 - val_loss: 0.7583 - val_accuracy: 0.6188\n",
            "{'loss': [0.9623860120773315, 0.8732355237007141, 0.7805743217468262, 0.7708919644355774, 0.7563226819038391, 0.7156460881233215, 0.6963241100311279, 0.65773606300354, 0.6119428277015686, 0.5346137285232544], 'accuracy': [0.5416666865348816, 0.5592105388641357, 0.6184210777282715, 0.5928362607955933, 0.6198830604553223, 0.6571637392044067, 0.6600877046585083, 0.6980994343757629, 0.7244151830673218, 0.7565789222717285], 'val_loss': [1.6832162141799927, 0.862105667591095, 1.4904303550720215, 3.3344533443450928, 1.7892959117889404, 0.8642460703849792, 1.2589372396469116, 1.413101077079773, 0.7299172878265381, 0.7583052515983582], 'val_accuracy': [0.5542522072792053, 0.4868035316467285, 0.53665691614151, 0.47507330775260925, 0.607038140296936, 0.563049852848053, 0.5923753380775452, 0.5571847558021545, 0.6510263681411743, 0.6187683343887329]}\n"
          ]
        }
      ],
      "source": [
        "\n",
        "model_result = model.fit(\n",
        "    rf_train_generator,\n",
        "    epochs = 10,\n",
        "    steps_per_epoch = len(rf_train_generator),\n",
        "    validation_data = validation_generator,\n",
        "    validation_steps = len(validation_generator),\n",
        "    callbacks = custom_callbacks\n",
        ")\n",
        "print(model_result.history)"
      ],
      "id": "9fc2530a"
    },
    {
      "cell_type": "code",
      "execution_count": 36,
      "metadata": {
        "id": "fa8005c0",
        "colab": {
          "base_uri": "https://localhost:8080/"
        },
        "outputId": "af336816-ddea-48e3-a992-bb3a031eeca8"
      },
      "outputs": [
        {
          "output_type": "stream",
          "name": "stdout",
          "text": [
            "332/332 [==============================] - 9s 23ms/step\n"
          ]
        }
      ],
      "source": [
        "# load the saved model that is considered the best\n",
        "best_result = load_model('./best_result.h5')\n",
        "\n",
        "# Generate predictions\n",
        "rf_test_generator.reset()\n",
        "\n",
        "preds = best_result.predict(\n",
        "    rf_test_generator,\n",
        "    verbose = 1\n",
        ")"
      ],
      "id": "fa8005c0"
    },
    {
      "cell_type": "code",
      "execution_count": 37,
      "metadata": {
        "id": "f9969e0b",
        "colab": {
          "base_uri": "https://localhost:8080/",
          "height": 206
        },
        "outputId": "395d1a0b-b11f-496c-98b4-e186b942ea0b"
      },
      "outputs": [
        {
          "output_type": "execute_result",
          "data": {
            "text/plain": [
              "   file_id  label\n",
              "0        0      1\n",
              "1        1      1\n",
              "2        2      0\n",
              "3        3      0\n",
              "4        4      1"
            ],
            "text/html": [
              "\n",
              "  <div id=\"df-0cc4de50-46a7-4f20-b96f-b78449ec0383\">\n",
              "    <div class=\"colab-df-container\">\n",
              "      <div>\n",
              "<style scoped>\n",
              "    .dataframe tbody tr th:only-of-type {\n",
              "        vertical-align: middle;\n",
              "    }\n",
              "\n",
              "    .dataframe tbody tr th {\n",
              "        vertical-align: top;\n",
              "    }\n",
              "\n",
              "    .dataframe thead th {\n",
              "        text-align: right;\n",
              "    }\n",
              "</style>\n",
              "<table border=\"1\" class=\"dataframe\">\n",
              "  <thead>\n",
              "    <tr style=\"text-align: right;\">\n",
              "      <th></th>\n",
              "      <th>file_id</th>\n",
              "      <th>label</th>\n",
              "    </tr>\n",
              "  </thead>\n",
              "  <tbody>\n",
              "    <tr>\n",
              "      <th>0</th>\n",
              "      <td>0</td>\n",
              "      <td>1</td>\n",
              "    </tr>\n",
              "    <tr>\n",
              "      <th>1</th>\n",
              "      <td>1</td>\n",
              "      <td>1</td>\n",
              "    </tr>\n",
              "    <tr>\n",
              "      <th>2</th>\n",
              "      <td>2</td>\n",
              "      <td>0</td>\n",
              "    </tr>\n",
              "    <tr>\n",
              "      <th>3</th>\n",
              "      <td>3</td>\n",
              "      <td>0</td>\n",
              "    </tr>\n",
              "    <tr>\n",
              "      <th>4</th>\n",
              "      <td>4</td>\n",
              "      <td>1</td>\n",
              "    </tr>\n",
              "  </tbody>\n",
              "</table>\n",
              "</div>\n",
              "      <button class=\"colab-df-convert\" onclick=\"convertToInteractive('df-0cc4de50-46a7-4f20-b96f-b78449ec0383')\"\n",
              "              title=\"Convert this dataframe to an interactive table.\"\n",
              "              style=\"display:none;\">\n",
              "        \n",
              "  <svg xmlns=\"http://www.w3.org/2000/svg\" height=\"24px\"viewBox=\"0 0 24 24\"\n",
              "       width=\"24px\">\n",
              "    <path d=\"M0 0h24v24H0V0z\" fill=\"none\"/>\n",
              "    <path d=\"M18.56 5.44l.94 2.06.94-2.06 2.06-.94-2.06-.94-.94-2.06-.94 2.06-2.06.94zm-11 1L8.5 8.5l.94-2.06 2.06-.94-2.06-.94L8.5 2.5l-.94 2.06-2.06.94zm10 10l.94 2.06.94-2.06 2.06-.94-2.06-.94-.94-2.06-.94 2.06-2.06.94z\"/><path d=\"M17.41 7.96l-1.37-1.37c-.4-.4-.92-.59-1.43-.59-.52 0-1.04.2-1.43.59L10.3 9.45l-7.72 7.72c-.78.78-.78 2.05 0 2.83L4 21.41c.39.39.9.59 1.41.59.51 0 1.02-.2 1.41-.59l7.78-7.78 2.81-2.81c.8-.78.8-2.07 0-2.86zM5.41 20L4 18.59l7.72-7.72 1.47 1.35L5.41 20z\"/>\n",
              "  </svg>\n",
              "      </button>\n",
              "      \n",
              "  <style>\n",
              "    .colab-df-container {\n",
              "      display:flex;\n",
              "      flex-wrap:wrap;\n",
              "      gap: 12px;\n",
              "    }\n",
              "\n",
              "    .colab-df-convert {\n",
              "      background-color: #E8F0FE;\n",
              "      border: none;\n",
              "      border-radius: 50%;\n",
              "      cursor: pointer;\n",
              "      display: none;\n",
              "      fill: #1967D2;\n",
              "      height: 32px;\n",
              "      padding: 0 0 0 0;\n",
              "      width: 32px;\n",
              "    }\n",
              "\n",
              "    .colab-df-convert:hover {\n",
              "      background-color: #E2EBFA;\n",
              "      box-shadow: 0px 1px 2px rgba(60, 64, 67, 0.3), 0px 1px 3px 1px rgba(60, 64, 67, 0.15);\n",
              "      fill: #174EA6;\n",
              "    }\n",
              "\n",
              "    [theme=dark] .colab-df-convert {\n",
              "      background-color: #3B4455;\n",
              "      fill: #D2E3FC;\n",
              "    }\n",
              "\n",
              "    [theme=dark] .colab-df-convert:hover {\n",
              "      background-color: #434B5C;\n",
              "      box-shadow: 0px 1px 3px 1px rgba(0, 0, 0, 0.15);\n",
              "      filter: drop-shadow(0px 1px 2px rgba(0, 0, 0, 0.3));\n",
              "      fill: #FFFFFF;\n",
              "    }\n",
              "  </style>\n",
              "\n",
              "      <script>\n",
              "        const buttonEl =\n",
              "          document.querySelector('#df-0cc4de50-46a7-4f20-b96f-b78449ec0383 button.colab-df-convert');\n",
              "        buttonEl.style.display =\n",
              "          google.colab.kernel.accessAllowed ? 'block' : 'none';\n",
              "\n",
              "        async function convertToInteractive(key) {\n",
              "          const element = document.querySelector('#df-0cc4de50-46a7-4f20-b96f-b78449ec0383');\n",
              "          const dataTable =\n",
              "            await google.colab.kernel.invokeFunction('convertToInteractive',\n",
              "                                                     [key], {});\n",
              "          if (!dataTable) return;\n",
              "\n",
              "          const docLinkHtml = 'Like what you see? Visit the ' +\n",
              "            '<a target=\"_blank\" href=https://colab.research.google.com/notebooks/data_table.ipynb>data table notebook</a>'\n",
              "            + ' to learn more about interactive tables.';\n",
              "          element.innerHTML = '';\n",
              "          dataTable['output_type'] = 'display_data';\n",
              "          await google.colab.output.renderOutput(dataTable, element);\n",
              "          const docLink = document.createElement('div');\n",
              "          docLink.innerHTML = docLinkHtml;\n",
              "          element.appendChild(docLink);\n",
              "        }\n",
              "      </script>\n",
              "    </div>\n",
              "  </div>\n",
              "  "
            ]
          },
          "metadata": {},
          "execution_count": 37
        }
      ],
      "source": [
        "rf_test['pred'] = preds.flatten()\n",
        "submission = pd.read_csv('/content/DLHack_RFNN/test.csv')\n",
        "submission['label'] =  rf_test['pred'].apply(lambda score : 1 if score > 0.5 else 0)\n",
        "submission.to_csv(\"/content/gdrive/MyDrive/Hackathon/DLHackathonFiles/SubRealFake_1.csv\",index=False)\n",
        "submission.head(5)"
      ],
      "id": "f9969e0b"
    },
    {
      "cell_type": "code",
      "source": [],
      "metadata": {
        "id": "AMpw-IzfPg0F"
      },
      "id": "AMpw-IzfPg0F",
      "execution_count": null,
      "outputs": []
    }
  ],
  "metadata": {
    "accelerator": "GPU",
    "colab": {
      "collapsed_sections": [],
      "machine_shape": "hm",
      "provenance": []
    },
    "gpuClass": "standard",
    "kernelspec": {
      "display_name": "Python 3",
      "language": "python",
      "name": "python3"
    },
    "language_info": {
      "codemirror_mode": {
        "name": "ipython",
        "version": 3
      },
      "file_extension": ".py",
      "mimetype": "text/x-python",
      "name": "python",
      "nbconvert_exporter": "python",
      "pygments_lexer": "ipython3",
      "version": "3.8.8"
    }
  },
  "nbformat": 4,
  "nbformat_minor": 5
}