{
  "cells": [
    {
      "cell_type": "code",
      "execution_count": null,
      "metadata": {
        "id": "e4f65eda"
      },
      "outputs": [],
      "source": [
        "import tensorflow as tf\n",
        "import json\n",
        "import os\n",
        "from distutils.dir_util import copy_tree\n",
        "import shutil\n",
        "import pandas as pd\n",
        "import matplotlib.pyplot as plt\n",
        "\n",
        "# now import TensorFlow and tf.keras\n",
        "\n",
        "from tensorflow.keras import backend as K\n",
        "from keras.preprocessing.image import ImageDataGenerator, load_img\n",
        "from tensorflow.keras import applications\n",
        "from tensorflow.keras.applications.efficientnet_v2 import EfficientNetV2B0 #EfficientNetB1, EfficientNetB2, EfficientNetB3, EfficientNetB4, EfficientNetB5, EfficientNetB6, EfficientNetB7\n",
        "from tensorflow.keras.applications.efficientnet import EfficientNetB0 #EfficientNetB1, EfficientNetB2, EfficientNetB3, EfficientNetB4, EfficientNetB5, EfficientNetB6, EfficientNetB7\n",
        "from tensorflow.keras.applications.densenet import DenseNet121\n",
        "from tensorflow.keras.models import Sequential\n",
        "from tensorflow.keras.layers import Dense, Dropout\n",
        "from tensorflow.keras.optimizers import Adam\n",
        "from tensorflow.keras.callbacks import EarlyStopping, ModelCheckpoint\n",
        "from tensorflow.keras.models import load_model"
      ],
      "id": "e4f65eda"
    },
    {
      "cell_type": "code",
      "execution_count": null,
      "metadata": {
        "colab": {
          "base_uri": "https://localhost:8080/"
        },
        "id": "ba4727ce",
        "outputId": "f0fee0d6-480d-4755-a1fe-f6019ea5bf57"
      },
      "outputs": [
        {
          "output_type": "stream",
          "name": "stdout",
          "text": [
            "TensorFlow version is:  2.8.2\n"
          ]
        }
      ],
      "source": [
        "print('TensorFlow version is: ', tf.__version__)\n",
        "\n"
      ],
      "id": "ba4727ce"
    },
    {
      "cell_type": "code",
      "execution_count": null,
      "metadata": {
        "colab": {
          "base_uri": "https://localhost:8080/"
        },
        "id": "8kFfPanXWs3S",
        "outputId": "749a9465-d6a4-4920-b8b6-863d5e6e68c2"
      },
      "outputs": [
        {
          "output_type": "stream",
          "name": "stdout",
          "text": [
            "Mounted at /content/gdrive\n"
          ]
        }
      ],
      "source": [
        "from google.colab import drive\n",
        "drive.mount('/content/gdrive')"
      ],
      "id": "8kFfPanXWs3S"
    },
    {
      "cell_type": "code",
      "source": [
        "!cp '/content/gdrive/MyDrive/Hackathon/DLHackathonFiles/DLHack_RFNN.zip' 'DLHack_RFNN.zip'"
      ],
      "metadata": {
        "id": "kq0RXZsss_hX",
        "colab": {
          "base_uri": "https://localhost:8080/"
        },
        "outputId": "15350e6f-b8e1-441f-b126-1e54fe4db02e"
      },
      "id": "kq0RXZsss_hX",
      "execution_count": null,
      "outputs": [
        {
          "output_type": "stream",
          "name": "stdout",
          "text": [
            "cp: cannot stat '/content/gdrive/MyDrive/Hackathon/Hack_NN.zip': No such file or directory\n"
          ]
        }
      ]
    },
    {
      "cell_type": "code",
      "execution_count": null,
      "metadata": {
        "id": "QcLL_wU2gYjy",
        "colab": {
          "base_uri": "https://localhost:8080/"
        },
        "outputId": "d6524ec2-14de-4836-8aeb-cac06dee4469"
      },
      "outputs": [
        {
          "output_type": "stream",
          "name": "stdout",
          "text": [
            "unzip:  cannot find or open Hack_NN.zip, Hack_NN.zip.zip or Hack_NN.zip.ZIP.\n"
          ]
        }
      ],
      "source": [
        "!unzip -q DLHack_RFNN.zip"
      ],
      "id": "QcLL_wU2gYjy"
    },
    {
      "cell_type": "code",
      "execution_count": null,
      "metadata": {
        "id": "8fb8c659"
      },
      "outputs": [],
      "source": [
        "dataset_path = '/content/DLHack_RFNN/dataset/'\n",
        "input_size = 224\n",
        "batch_size_num = 32\n",
        "train_path = os.path.join(dataset_path,'train')\n",
        "val_path = os.path.join(dataset_path, 'val')\n",
        "test_path = os.path.join(dataset_path, 'test')"
      ],
      "id": "8fb8c659"
    },
    {
      "cell_type": "code",
      "source": [
        "def plot_img(path, set_):\n",
        "    dir_ = os.path.join(path, 'train', set_)\n",
        "    k = 0\n",
        "    fig, ax = plt.subplots(3,3, figsize=(15,15))\n",
        "    fig.suptitle(set_ + 'Faces')\n",
        "    for j in range(3):\n",
        "        for i in range(3):\n",
        "            img = load_img(os.path.join(dir_, os.listdir(os.path.join(dir_))[k]))\n",
        "            ax[j,i].imshow(img)\n",
        "            ax[j,i].set_title(\"\")\n",
        "            ax[j,i].axis('off')\n",
        "            k +=1\n",
        "  #  fig.tight_layout()\n",
        "    plt.suptitle(set_ + ' Faces')\n",
        "    return plt\n",
        "\n",
        "plot_img(dataset_path, 'real').show()"
      ],
      "metadata": {
        "colab": {
          "base_uri": "https://localhost:8080/",
          "height": 967
        },
        "id": "gr9JG__2bADm",
        "outputId": "c6c45bcb-6a9d-4f2e-8790-a15474243a8a"
      },
      "id": "gr9JG__2bADm",
      "execution_count": null,
      "outputs": [
        {
          "output_type": "error",
          "ename": "FileNotFoundError",
          "evalue": "ignored",
          "traceback": [
            "\u001b[0;31m---------------------------------------------------------------------------\u001b[0m",
            "\u001b[0;31mFileNotFoundError\u001b[0m                         Traceback (most recent call last)",
            "\u001b[0;32m<ipython-input-8-f4d96644ce4c>\u001b[0m in \u001b[0;36m<module>\u001b[0;34m\u001b[0m\n\u001b[1;32m     15\u001b[0m     \u001b[0;32mreturn\u001b[0m \u001b[0mplt\u001b[0m\u001b[0;34m\u001b[0m\u001b[0;34m\u001b[0m\u001b[0m\n\u001b[1;32m     16\u001b[0m \u001b[0;34m\u001b[0m\u001b[0m\n\u001b[0;32m---> 17\u001b[0;31m \u001b[0mplot_img\u001b[0m\u001b[0;34m(\u001b[0m\u001b[0mdataset_path\u001b[0m\u001b[0;34m,\u001b[0m \u001b[0;34m'real'\u001b[0m\u001b[0;34m)\u001b[0m\u001b[0;34m.\u001b[0m\u001b[0mshow\u001b[0m\u001b[0;34m(\u001b[0m\u001b[0;34m)\u001b[0m\u001b[0;34m\u001b[0m\u001b[0;34m\u001b[0m\u001b[0m\n\u001b[0m",
            "\u001b[0;32m<ipython-input-8-f4d96644ce4c>\u001b[0m in \u001b[0;36mplot_img\u001b[0;34m(path, set_)\u001b[0m\n\u001b[1;32m      6\u001b[0m     \u001b[0;32mfor\u001b[0m \u001b[0mj\u001b[0m \u001b[0;32min\u001b[0m \u001b[0mrange\u001b[0m\u001b[0;34m(\u001b[0m\u001b[0;36m3\u001b[0m\u001b[0;34m)\u001b[0m\u001b[0;34m:\u001b[0m\u001b[0;34m\u001b[0m\u001b[0;34m\u001b[0m\u001b[0m\n\u001b[1;32m      7\u001b[0m         \u001b[0;32mfor\u001b[0m \u001b[0mi\u001b[0m \u001b[0;32min\u001b[0m \u001b[0mrange\u001b[0m\u001b[0;34m(\u001b[0m\u001b[0;36m3\u001b[0m\u001b[0;34m)\u001b[0m\u001b[0;34m:\u001b[0m\u001b[0;34m\u001b[0m\u001b[0;34m\u001b[0m\u001b[0m\n\u001b[0;32m----> 8\u001b[0;31m             \u001b[0mimg\u001b[0m \u001b[0;34m=\u001b[0m \u001b[0mload_img\u001b[0m\u001b[0;34m(\u001b[0m\u001b[0mos\u001b[0m\u001b[0;34m.\u001b[0m\u001b[0mpath\u001b[0m\u001b[0;34m.\u001b[0m\u001b[0mjoin\u001b[0m\u001b[0;34m(\u001b[0m\u001b[0mdir_\u001b[0m\u001b[0;34m,\u001b[0m \u001b[0mos\u001b[0m\u001b[0;34m.\u001b[0m\u001b[0mlistdir\u001b[0m\u001b[0;34m(\u001b[0m\u001b[0mos\u001b[0m\u001b[0;34m.\u001b[0m\u001b[0mpath\u001b[0m\u001b[0;34m.\u001b[0m\u001b[0mjoin\u001b[0m\u001b[0;34m(\u001b[0m\u001b[0mdir_\u001b[0m\u001b[0;34m)\u001b[0m\u001b[0;34m)\u001b[0m\u001b[0;34m[\u001b[0m\u001b[0mk\u001b[0m\u001b[0;34m]\u001b[0m\u001b[0;34m)\u001b[0m\u001b[0;34m)\u001b[0m\u001b[0;34m\u001b[0m\u001b[0;34m\u001b[0m\u001b[0m\n\u001b[0m\u001b[1;32m      9\u001b[0m             \u001b[0max\u001b[0m\u001b[0;34m[\u001b[0m\u001b[0mj\u001b[0m\u001b[0;34m,\u001b[0m\u001b[0mi\u001b[0m\u001b[0;34m]\u001b[0m\u001b[0;34m.\u001b[0m\u001b[0mimshow\u001b[0m\u001b[0;34m(\u001b[0m\u001b[0mimg\u001b[0m\u001b[0;34m)\u001b[0m\u001b[0;34m\u001b[0m\u001b[0;34m\u001b[0m\u001b[0m\n\u001b[1;32m     10\u001b[0m             \u001b[0max\u001b[0m\u001b[0;34m[\u001b[0m\u001b[0mj\u001b[0m\u001b[0;34m,\u001b[0m\u001b[0mi\u001b[0m\u001b[0;34m]\u001b[0m\u001b[0;34m.\u001b[0m\u001b[0mset_title\u001b[0m\u001b[0;34m(\u001b[0m\u001b[0;34m\"\"\u001b[0m\u001b[0;34m)\u001b[0m\u001b[0;34m\u001b[0m\u001b[0;34m\u001b[0m\u001b[0m\n",
            "\u001b[0;31mFileNotFoundError\u001b[0m: [Errno 2] No such file or directory: '/content/Hack_NN/dataset/train/real'"
          ]
        },
        {
          "output_type": "display_data",
          "data": {
            "text/plain": [
              "<Figure size 720x720 with 9 Axes>"
            ],
            "image/png": "[encoded data removed]"
          },
          "metadata": {
            "needs_background": "light"
          }
        }
      ]
    },
    {
      "cell_type": "code",
      "source": [
        "plot_img(dataset_path, 'fake').show()"
      ],
      "metadata": {
        "id": "bmALh5F0bUoD"
      },
      "id": "bmALh5F0bUoD",
      "execution_count": null,
      "outputs": []
    },
    {
      "cell_type": "code",
      "execution_count": null,
      "metadata": {
        "id": "3d2d1fef"
      },
      "outputs": [],
      "source": [
        "#Read training and test Dataframe\n",
        "train_data = pd.read_csv('/content/DLHack_RFNN/train.csv')\n",
        "train_data.tail()"
      ],
      "id": "3d2d1fef"
    },
    {
      "cell_type": "code",
      "execution_count": null,
      "metadata": {
        "id": "d2774c23"
      },
      "outputs": [],
      "source": [
        "test_data = pd.read_csv('/content/DLHack_RFNN/test.csv')\n",
        "test_data.head()"
      ],
      "id": "d2774c23"
    },
    {
      "cell_type": "code",
      "execution_count": null,
      "metadata": {
        "id": "d6e813e4"
      },
      "outputs": [],
      "source": [
        "paths = []\n",
        "classes = []\n",
        "for i in train_data['file_id']:\n",
        "    if train_data.iloc[i]['label'] == 0:\n",
        "        cls = 'fake'\n",
        "    else:\n",
        "        cls = 'real'\n",
        "    path = dataset_path + 'train/' + cls + '/' + str(train_data.iloc[i]['file_id'])+'.jpg'\n",
        "    paths.append(path)\n",
        "    classes.append(cls)\n",
        "\n",
        "train_data['file_path'] = paths\n",
        "train_data['class'] = classes\n",
        "train_data.head()"
      ],
      "id": "d6e813e4"
    },
    {
      "cell_type": "code",
      "execution_count": null,
      "metadata": {
        "id": "ee949695"
      },
      "outputs": [],
      "source": [
        "paths = []\n",
        "for i in test_data['file_id']:\n",
        "    path = dataset_path + 'test/' + str(test_data.iloc[i]['file_id'])+'.jpg'\n",
        "    paths.append(path)\n",
        "\n",
        "test_data['file_path'] = paths\n",
        "test_data.tail()"
      ],
      "id": "ee949695"
    },
    {
      "cell_type": "code",
      "execution_count": null,
      "metadata": {
        "id": "da3d86cc"
      },
      "outputs": [],
      "source": [
        "from sklearn.model_selection import train_test_split\n",
        "train_df, val_df = train_test_split(train_data, test_size=0.2, random_state=1)"
      ],
      "id": "da3d86cc"
    },
    {
      "cell_type": "code",
      "execution_count": null,
      "metadata": {
        "id": "b3de6d6e"
      },
      "outputs": [],
      "source": [
        "train_datagen = ImageDataGenerator(\n",
        "    rescale = 1/255,    #rescale the tensor values to [0,1]\n",
        "    zoom_range = 0.1,\n",
        "    horizontal_flip = True,\n",
        "    shear_range=0.2,\n",
        "    fill_mode = 'nearest'\n",
        ")\n",
        "\n",
        "train_generator = train_datagen.flow_from_dataframe(\n",
        "    train_df,\n",
        "    x_col='file_path', #File path for image\n",
        "    y_col='class',   #Class for the image,\n",
        "    target_size = (input_size, input_size),\n",
        "    color_mode = \"rgb\",\n",
        "    class_mode = \"binary\",  #\"categorical\", \"binary\", \"sparse\", \"input\"\n",
        "    batch_size = batch_size_num,\n",
        "    shuffle = True\n",
        "    #save_to_dir = tmp_debug_path\n",
        ")"
      ],
      "id": "b3de6d6e"
    },
    {
      "cell_type": "code",
      "execution_count": null,
      "metadata": {
        "id": "98289a55"
      },
      "outputs": [],
      "source": [
        "val_datagen = ImageDataGenerator(\n",
        "    rescale = 1/255    #rescale the tensor values to [0,1]\n",
        ")\n",
        "\n",
        "val_generator = val_datagen.flow_from_dataframe(\n",
        "    val_df,\n",
        "    x_col='file_path', #File path for image\n",
        "    y_col='class',   #Class for the image,\n",
        "    target_size = (input_size, input_size),\n",
        "    color_mode = \"rgb\",\n",
        "    class_mode = \"binary\",  #\"categorical\", \"binary\", \"sparse\", \"input\"\n",
        "    batch_size = batch_size_num,\n",
        "    shuffle = True\n",
        "    #save_to_dir = tmp_debug_path\n",
        ")"
      ],
      "id": "98289a55"
    },
    {
      "cell_type": "code",
      "execution_count": null,
      "metadata": {
        "id": "9cfd30ad"
      },
      "outputs": [],
      "source": [
        "test_datagen = ImageDataGenerator(\n",
        "    rescale = 1/255    #rescale the tensor values to [0,1]\n",
        ")\n",
        "\n",
        "test_generator = test_datagen.flow_from_dataframe(\n",
        "    test_data,\n",
        "    x_col='file_path', #File path for image\n",
        "    target_size = (input_size, input_size),\n",
        "    color_mode = \"rgb\",\n",
        "    class_mode = None,\n",
        "    batch_size = 1,\n",
        "    shuffle = False\n",
        ")"
      ],
      "id": "9cfd30ad"
    },
    {
      "cell_type": "code",
      "execution_count": null,
      "metadata": {
        "id": "3c5a0a4c"
      },
      "outputs": [],
      "source": [
        "# Train a CNN classifier\n",
        "efficient_net = EfficientNetB0(\n",
        "    weights = 'imagenet',\n",
        "    input_shape = (input_size, input_size, 3),\n",
        "    include_top = False,\n",
        "    pooling = 'max'\n",
        ")\n",
        "efficient_net.summary()"
      ],
      "id": "3c5a0a4c"
    },
    {
      "cell_type": "code",
      "source": [
        "efficient_net.trainable = False"
      ],
      "metadata": {
        "id": "wTW1ggGgdRhF"
      },
      "id": "wTW1ggGgdRhF",
      "execution_count": null,
      "outputs": []
    },
    {
      "cell_type": "code",
      "execution_count": null,
      "metadata": {
        "id": "f6dfa0bf"
      },
      "outputs": [],
      "source": [
        "model = Sequential()\n",
        "model.add(efficient_net)\n",
        "model.add(Dense(units = 512, activation = 'relu'))\n",
        "model.add(tf.keras.layers.BatchNormalization())\n",
        "model.add(Dense(units = 256, activation = 'relu'))\n",
        "model.add(tf.keras.layers.BatchNormalization())\n",
        "model.add(Dense(units = 1, activation = 'sigmoid'))\n",
        "model.summary()"
      ],
      "id": "f6dfa0bf"
    },
    {
      "cell_type": "code",
      "execution_count": null,
      "metadata": {
        "id": "7dce8b3d"
      },
      "outputs": [],
      "source": [
        "# Compile model\n",
        "model.compile(optimizer = Adam(lr=0.001), loss='binary_crossentropy', metrics=['accuracy'])"
      ],
      "id": "7dce8b3d"
    },
    {
      "cell_type": "code",
      "source": [
        "from tensorflow.keras.applications import DenseNet121\n",
        "def get_model():\n",
        "    densenet = DenseNet121(weights='imagenet',\n",
        "                           include_top=False,\n",
        "                           input_shape=(224,224,3)\n",
        "                          )\n",
        "    model = tf.keras.models.Sequential([densenet,\n",
        "                                        tf.keras.layers.GlobalAveragePooling2D(),\n",
        "                                        tf.keras.layers.Dense(1024, activation='relu'),\n",
        "                                        tf.keras.layers.BatchNormalization(),\n",
        "                                        tf.keras.layers.Dropout(0.4),\n",
        "                                        Dense(1, activation='sigmoid')\n",
        "                                      ])\n",
        "    model.compile(optimizer=Adam(lr=0.001),\n",
        "                loss='binary_crossentropy',\n",
        "                metrics=['accuracy']\n",
        "                )\n",
        "\n",
        "    return model\n",
        "\n",
        "spoofnet = get_model()\n",
        "spoofnet.summary()"
      ],
      "metadata": {
        "id": "GS4H3ElaHcJW"
      },
      "id": "GS4H3ElaHcJW",
      "execution_count": null,
      "outputs": []
    },
    {
      "cell_type": "code",
      "execution_count": null,
      "metadata": {
        "id": "c135cb5a"
      },
      "outputs": [],
      "source": [
        "checkpoint_filepath = '/content/gdrive/MyDrive/Hackathon/DLHackathonFiles/'\n",
        "print('Creating Directory: ' + checkpoint_filepath)\n",
        "os.makedirs(checkpoint_filepath, exist_ok=True)\n",
        "\n",
        "custom_callbacks = [\n",
        "    EarlyStopping(\n",
        "        monitor = 'val_accuracy',\n",
        "        mode = 'max',\n",
        "        patience = 100,\n",
        "        verbose = 1\n",
        "    ),\n",
        "    ModelCheckpoint(\n",
        "        filepath = os.path.join(checkpoint_filepath, 'best_model.h5'),\n",
        "        monitor = 'val_accuracy',\n",
        "        mode = 'max',\n",
        "        verbose = 1,\n",
        "        save_best_only = True\n",
        "    )\n",
        "]\n"
      ],
      "id": "c135cb5a"
    },
    {
      "cell_type": "code",
      "execution_count": null,
      "metadata": {
        "id": "9fc2530a"
      },
      "outputs": [],
      "source": [
        "# Train network\n",
        "num_epochs = 150\n",
        "history = spoofnet.fit(\n",
        "    train_generator,\n",
        "    epochs = num_epochs,\n",
        "    steps_per_epoch = len(train_generator),\n",
        "    validation_data = val_generator,\n",
        "    validation_steps = len(val_generator),\n",
        "    callbacks = custom_callbacks\n",
        ")\n",
        "print(history.history)"
      ],
      "id": "9fc2530a"
    },
    {
      "cell_type": "code",
      "execution_count": null,
      "metadata": {
        "id": "d1c93cd7"
      },
      "outputs": [],
      "source": [
        "# Plot results\n",
        "import matplotlib.pyplot as plt\n",
        "acc = history.history['accuracy']\n",
        "val_acc = history.history['val_accuracy']\n",
        "loss = history.history['loss']\n",
        "val_loss = history.history['val_loss']\n",
        "epochs = range(1, len(acc) + 1)\n",
        "plt.plot(epochs, acc, 'bo', label = 'Training Accuracy')\n",
        "plt.plot(epochs, val_acc, 'b', label = 'Validation Accuracy')\n",
        "plt.title('Training and Validation Accuracy')\n",
        "plt.legend()\n",
        "plt.figure()\n",
        "plt.plot(epochs, loss, 'bo', label = 'Training loss')\n",
        "plt.plot(epochs, val_loss, 'b', label = 'Validation Loss')\n",
        "plt.title('Training and Validation Loss')\n",
        "plt.legend()\n",
        "plt.show()"
      ],
      "id": "d1c93cd7"
    },
    {
      "cell_type": "code",
      "execution_count": null,
      "metadata": {
        "id": "fa8005c0"
      },
      "outputs": [],
      "source": [
        "# load the saved model that is considered the best\n",
        "best_model = load_model(os.path.join(checkpoint_filepath, 'best_model.h5'))\n",
        "\n",
        "# Generate predictions\n",
        "test_generator.reset()\n",
        "\n",
        "preds = best_model.predict(\n",
        "    test_generator,\n",
        "    verbose = 1\n",
        ")\n",
        "\n",
        "test_results = pd.DataFrame({\n",
        "    \"file_id\": test_generator.filenames,\n",
        "    \"pred\": preds.flatten()\n",
        "})\n",
        "\n",
        "\n",
        "print(test_results)"
      ],
      "id": "fa8005c0"
    },
    {
      "cell_type": "code",
      "source": [
        "print(test_results['pred'][42])"
      ],
      "metadata": {
        "id": "z6hGeAB9rf7j"
      },
      "id": "z6hGeAB9rf7j",
      "execution_count": null,
      "outputs": []
    },
    {
      "cell_type": "code",
      "execution_count": null,
      "metadata": {
        "id": "f9969e0b"
      },
      "outputs": [],
      "source": [
        "submission = pd.read_csv('/content/DLHack_RFNN/test.csv')\n",
        "submission['label'] =  test_results['pred'].apply(lambda score : 1 if score > 0.8 else 0)\n",
        "submission.to_csv(\"/content/gdrive/MyDrive/Hackathon/DLHackathonFiles/SubRealFake_1.csv\",index=False)\n",
        "submission.head(100)"
      ],
      "id": "f9969e0b"
    },
    {
      "cell_type": "code",
      "source": [],
      "metadata": {
        "id": "kGT4zVlZ8waW"
      },
      "id": "kGT4zVlZ8waW",
      "execution_count": null,
      "outputs": []
    }
  ],
  "metadata": {
    "accelerator": "GPU",
    "colab": {
      "machine_shape": "hm",
      "provenance": []
    },
    "gpuClass": "standard",
    "kernelspec": {
      "display_name": "Python 3",
      "language": "python",
      "name": "python3"
    },
    "language_info": {
      "codemirror_mode": {
        "name": "ipython",
        "version": 3
      },
      "file_extension": ".py",
      "mimetype": "text/x-python",
      "name": "python",
      "nbconvert_exporter": "python",
      "pygments_lexer": "ipython3",
      "version": "3.8.8"
    }
  },
  "nbformat": 4,
  "nbformat_minor": 5
}