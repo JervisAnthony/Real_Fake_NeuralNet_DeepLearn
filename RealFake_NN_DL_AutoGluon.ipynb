{
  "cells": [
    {
      "cell_type": "code",
      "source": [
        "import pandas as pd\n",
        "pred = pd.DataFrame()\n",
        "df= pd.read_csv('/content/drive/My Drive/Colab Notebooks/test_(1).csv')"
      ],
      "metadata": {
        "id": "83B7tOX9VrEf"
      },
      "id": "83B7tOX9VrEf",
      "execution_count": null,
      "outputs": []
    },
    {
      "cell_type": "code",
      "execution_count": null,
      "id": "1e96dad6",
      "metadata": {
        "id": "1e96dad6"
      },
      "outputs": [],
      "source": [
        "import autogluon.core as ag\n",
        "from autogluon.multimodal import MultiModalPredictor\n",
        "from autogluon.vision import ImagePredictor, ImageDataset"
      ]
    },
    {
      "cell_type": "code",
      "source": [
        "from google.colab import drive\n",
        "drive.mount('/content/drive')"
      ],
      "metadata": {
        "colab": {
          "base_uri": "https://localhost:8080/"
        },
        "id": "YF2X_FgEM7Kk",
        "outputId": "40ad1d34-ab41-45c6-db3b-845dcb8e0976"
      },
      "id": "YF2X_FgEM7Kk",
      "execution_count": null,
      "outputs": [
        {
          "output_type": "stream",
          "name": "stdout",
          "text": [
            "Mounted at /content/drive\n"
          ]
        }
      ]
    },
    {
      "cell_type": "code",
      "source": [
        "pred=df"
      ],
      "metadata": {
        "id": "Xm8p3mt2hEde"
      },
      "id": "Xm8p3mt2hEde",
      "execution_count": null,
      "outputs": []
    },
    {
      "cell_type": "code",
      "source": [
        "import os\n",
        "os.chdir('/content/drive/My Drive/Colab Notebooks/')"
      ],
      "metadata": {
        "id": "jeCP_rFwNF86"
      },
      "id": "jeCP_rFwNF86",
      "execution_count": null,
      "outputs": []
    },
    {
      "cell_type": "code",
      "execution_count": null,
      "id": "6bd825fe",
      "metadata": {
        "id": "6bd825fe"
      },
      "outputs": [],
      "source": [
        "td=ImageDataset.from_folder(\"/content/drive/My Drive/Colab Notebooks/test\")"
      ]
    },
    {
      "cell_type": "code",
      "execution_count": null,
      "id": "b6519ad2",
      "metadata": {
        "id": "b6519ad2"
      },
      "outputs": [],
      "source": [
        "trd=ImageDataset.from_folder(\"/content/drive/My Drive/Colab Notebooks/train\")"
      ]
    },
    {
      "cell_type": "code",
      "execution_count": null,
      "id": "594a6ada",
      "metadata": {
        "colab": {
          "base_uri": "https://localhost:8080/"
        },
        "id": "594a6ada",
        "outputId": "5e871b27-d452-446c-aa0b-eaa4fcdced14"
      },
      "outputs": [
        {
          "output_type": "stream",
          "name": "stdout",
          "text": [
            "Empty ImageClassificationDataset\n",
            "Columns: [image, label]\n",
            "Index: []\n"
          ]
        }
      ],
      "source": [
        "print(td)"
      ]
    },
    {
      "cell_type": "code",
      "execution_count": null,
      "id": "07f6a7f5",
      "metadata": {
        "id": "07f6a7f5"
      },
      "outputs": [],
      "source": [
        "predictor = ImagePredictor()"
      ]
    },
    {
      "cell_type": "code",
      "execution_count": null,
      "id": "d39c9575",
      "metadata": {
        "colab": {
          "base_uri": "https://localhost:8080/"
        },
        "id": "d39c9575",
        "outputId": "9e98d905-48b0-46aa-e44b-e55129d63380"
      },
      "outputs": [
        {
          "output_type": "stream",
          "name": "stderr",
          "text": [
            "INFO:autogluon.vision.predictor.predictor:ImagePredictor sets accuracy as default eval_metric for classification problems.\n",
            "INFO:autogluon.vision.predictor.predictor:Reset labels to [0, 1]\n",
            "INFO:autogluon.core.data.label_cleaner:Selected class <--> label mapping:  class 1 = 1, class 0 = 0\n",
            "INFO:autogluon.vision.predictor.predictor:Randomly split train_data into train[1538]/validation[171] splits.\n",
            "INFO:autogluon.vision._gluoncv.image_classification:No GPU detected/allowed, using most conservative search space.\n",
            "INFO:autogluon.vision._gluoncv.image_classification:Starting fit without HPO\n",
            "INFO:TorchImageClassificationEstimator:modified configs(<old> != <new>): {\n",
            "INFO:TorchImageClassificationEstimator:root.train.batch_size 32 != 16\n",
            "INFO:TorchImageClassificationEstimator:root.train.early_stop_patience -1 != 10\n",
            "INFO:TorchImageClassificationEstimator:root.train.early_stop_max_value 1.0 != inf\n",
            "INFO:TorchImageClassificationEstimator:root.train.epochs    200 != 5\n",
            "INFO:TorchImageClassificationEstimator:root.train.early_stop_baseline 0.0 != -inf\n",
            "INFO:TorchImageClassificationEstimator:root.misc.num_workers 4 != 2\n",
            "INFO:TorchImageClassificationEstimator:root.misc.seed       42 != 538\n",
            "INFO:TorchImageClassificationEstimator:root.gpus            (0,) != ()\n",
            "INFO:TorchImageClassificationEstimator:root.img_cls.model   resnet101 != resnet18\n",
            "INFO:TorchImageClassificationEstimator:}\n",
            "INFO:TorchImageClassificationEstimator:Saved config to /content/drive/MyDrive/Colab Notebooks/709887f2/.trial_0/config.yaml\n",
            "INFO:TorchImageClassificationEstimator:Model resnet18 created, param count:                                         11177538\n",
            "INFO:TorchImageClassificationEstimator:AMP not enabled. Training in float32.\n",
            "INFO:TorchImageClassificationEstimator:Disable EMA as it is not supported for now.\n",
            "INFO:TorchImageClassificationEstimator:Start training from [Epoch 0]\n",
            "INFO:TorchImageClassificationEstimator:Epoch[0] Batch [49]\tSpeed: 3.619586 samples/sec\taccuracy=0.496250\tlr=0.000100\n",
            "INFO:TorchImageClassificationEstimator:[Epoch 0] training: accuracy=0.511068\n",
            "INFO:TorchImageClassificationEstimator:[Epoch 0] speed: 3 samples/sec\ttime cost: 412.528616\n",
            "INFO:TorchImageClassificationEstimator:[Epoch 0] validation: top1=0.578947 top5=1.000000\n",
            "INFO:TorchImageClassificationEstimator:[Epoch 0] Current best top-1: 0.578947 vs previous -inf, saved to /content/drive/MyDrive/Colab Notebooks/709887f2/.trial_0/best_checkpoint.pkl\n",
            "WARNING:TorchImageClassificationEstimator:`time_limit=599.9951641559601` reached, exit early...\n",
            "INFO:TorchImageClassificationEstimator:Applying the state from the best checkpoint...\n",
            "INFO:autogluon.vision._gluoncv.image_classification:Finished, total runtime is 604.33 s\n",
            "INFO:autogluon.vision._gluoncv.image_classification:{ 'best_config': { 'batch_size': 16,\n",
            "                   'dist_ip_addrs': None,\n",
            "                   'early_stop_baseline': -inf,\n",
            "                   'early_stop_max_value': inf,\n",
            "                   'early_stop_patience': 10,\n",
            "                   'epochs': 5,\n",
            "                   'final_fit': False,\n",
            "                   'gpus': [],\n",
            "                   'lr': 0.01,\n",
            "                   'model': 'resnet18',\n",
            "                   'ngpus_per_trial': 0,\n",
            "                   'nthreads_per_trial': 32,\n",
            "                   'num_workers': 2,\n",
            "                   'searcher': 'random',\n",
            "                   'seed': 538,\n",
            "                   'time_limits': 600},\n",
            "  'total_time': 600.815003156662,\n",
            "  'train_acc': 0.5788690476190477,\n",
            "  'valid_acc': 0.5789473677239223}\n"
          ]
        },
        {
          "output_type": "execute_result",
          "data": {
            "text/plain": [
              "<autogluon.vision.predictor.predictor.ImagePredictor at 0x7f6418ff0910>"
            ]
          },
          "metadata": {},
          "execution_count": 17
        }
      ],
      "source": [
        "time_limit = 5 * 60 # 10mins\n",
        "predictor = ImagePredictor()\n",
        "predictor.fit(trd, time_limit=time_limit)"
      ]
    },
    {
      "cell_type": "code",
      "execution_count": null,
      "id": "b1210932",
      "metadata": {
        "colab": {
          "base_uri": "https://localhost:8080/"
        },
        "id": "b1210932",
        "outputId": "e375549c-06cf-4c50-cf3b-133a5e32f037"
      },
      "outputs": [
        {
          "output_type": "stream",
          "name": "stdout",
          "text": [
            "0       0\n",
            "1       1\n",
            "2       1\n",
            "3       0\n",
            "4       1\n",
            "       ..\n",
            "1704    0\n",
            "1705    0\n",
            "1706    0\n",
            "1707    1\n",
            "1708    1\n",
            "Name: label, Length: 1709, dtype: int64\n"
          ]
        }
      ],
      "source": [
        "pred = predictor.predict(trd)\n",
        "print(pred)"
      ]
    },
    {
      "cell_type": "code",
      "source": [
        "pred.to_csv('/content/drive/My Drive/Colab Notebooks/submission.csv',index=False)"
      ],
      "metadata": {
        "id": "GTscMprKRYB4"
      },
      "id": "GTscMprKRYB4",
      "execution_count": null,
      "outputs": []
    }
  ],
  "metadata": {
    "kernelspec": {
      "display_name": "Python 3 (ipykernel)",
      "language": "python",
      "name": "python3"
    },
    "language_info": {
      "codemirror_mode": {
        "name": "ipython",
        "version": 3
      },
      "file_extension": ".py",
      "mimetype": "text/x-python",
      "name": "python",
      "nbconvert_exporter": "python",
      "pygments_lexer": "ipython3",
      "version": "3.9.12"
    },
    "colab": {
      "provenance": []
    }
  },
  "nbformat": 4,
  "nbformat_minor": 5
}